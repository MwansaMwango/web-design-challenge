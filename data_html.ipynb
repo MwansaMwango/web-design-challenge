{
 "metadata": {
  "language_info": {
   "codemirror_mode": {
    "name": "ipython",
    "version": 3
   },
   "file_extension": ".py",
   "mimetype": "text/x-python",
   "name": "python",
   "nbconvert_exporter": "python",
   "pygments_lexer": "ipython3",
   "version": "3.8.5-final"
  },
  "orig_nbformat": 2,
  "kernelspec": {
   "name": "python3",
   "display_name": "Python 3.8.5 64-bit ('Mwansa': virtualenv)",
   "metadata": {
    "interpreter": {
     "hash": "2c3c5b7e521ed385cd317e5adc75c961fe301f41d1ed6ee19f28764a4ab100bf"
    }
   }
  }
 },
 "nbformat": 4,
 "nbformat_minor": 2,
 "cells": [
  {
   "cell_type": "code",
   "execution_count": 3,
   "metadata": {},
   "outputs": [],
   "source": [
    "# Dependencies and Setup \n",
    "import pandas as pd\n",
    "import os\n",
    "import sys\n",
    "\n",
    "import datetime  \n",
    "def _getToday(): return datetime.date.today().strftime(\"%Y%m%d\")"
   ]
  },
  {
   "cell_type": "code",
   "execution_count": 1,
   "metadata": {},
   "outputs": [
    {
     "output_type": "execute_result",
     "data": {
      "text/plain": [
       "'.\\\\resources\\\\cities.csv'"
      ]
     },
     "metadata": {},
     "execution_count": 1
    }
   ],
   "source": [
    "# Define path to csv file \n",
    "cities_file=os.path.join('.','resources','cities.csv') \n",
    "cities_file"
   ]
  },
  {
   "cell_type": "code",
   "execution_count": 5,
   "metadata": {},
   "outputs": [
    {
     "output_type": "execute_result",
     "data": {
      "text/plain": [
       "   City_ID          City Country    Lat     Lng        Date  Cloudiness  \\\n",
       "0        0  jacareacanga      BR  -6.22  -57.76  1528902000           0   \n",
       "1        1    kaitangata      NZ -46.28  169.85  1528905304         100   \n",
       "2        2      goulburn      AU -34.75  149.72  1528905078          20   \n",
       "3        3          lata      IN  30.78   78.62  1528905305          76   \n",
       "4        4    chokurdakh      RU  70.62  147.90  1528905306           0   \n",
       "\n",
       "   Humidity  Max Temp  Wind Speed  \n",
       "0        62     89.60        6.93  \n",
       "1        94     42.61        5.64  \n",
       "2        91     44.32       10.11  \n",
       "3        89     59.89        0.94  \n",
       "4        88     32.17        2.95  "
      ],
      "text/html": "<div>\n<style scoped>\n    .dataframe tbody tr th:only-of-type {\n        vertical-align: middle;\n    }\n\n    .dataframe tbody tr th {\n        vertical-align: top;\n    }\n\n    .dataframe thead th {\n        text-align: right;\n    }\n</style>\n<table border=\"1\" class=\"dataframe\">\n  <thead>\n    <tr style=\"text-align: right;\">\n      <th></th>\n      <th>City_ID</th>\n      <th>City</th>\n      <th>Country</th>\n      <th>Lat</th>\n      <th>Lng</th>\n      <th>Date</th>\n      <th>Cloudiness</th>\n      <th>Humidity</th>\n      <th>Max Temp</th>\n      <th>Wind Speed</th>\n    </tr>\n  </thead>\n  <tbody>\n    <tr>\n      <th>0</th>\n      <td>0</td>\n      <td>jacareacanga</td>\n      <td>BR</td>\n      <td>-6.22</td>\n      <td>-57.76</td>\n      <td>1528902000</td>\n      <td>0</td>\n      <td>62</td>\n      <td>89.60</td>\n      <td>6.93</td>\n    </tr>\n    <tr>\n      <th>1</th>\n      <td>1</td>\n      <td>kaitangata</td>\n      <td>NZ</td>\n      <td>-46.28</td>\n      <td>169.85</td>\n      <td>1528905304</td>\n      <td>100</td>\n      <td>94</td>\n      <td>42.61</td>\n      <td>5.64</td>\n    </tr>\n    <tr>\n      <th>2</th>\n      <td>2</td>\n      <td>goulburn</td>\n      <td>AU</td>\n      <td>-34.75</td>\n      <td>149.72</td>\n      <td>1528905078</td>\n      <td>20</td>\n      <td>91</td>\n      <td>44.32</td>\n      <td>10.11</td>\n    </tr>\n    <tr>\n      <th>3</th>\n      <td>3</td>\n      <td>lata</td>\n      <td>IN</td>\n      <td>30.78</td>\n      <td>78.62</td>\n      <td>1528905305</td>\n      <td>76</td>\n      <td>89</td>\n      <td>59.89</td>\n      <td>0.94</td>\n    </tr>\n    <tr>\n      <th>4</th>\n      <td>4</td>\n      <td>chokurdakh</td>\n      <td>RU</td>\n      <td>70.62</td>\n      <td>147.90</td>\n      <td>1528905306</td>\n      <td>0</td>\n      <td>88</td>\n      <td>32.17</td>\n      <td>2.95</td>\n    </tr>\n  </tbody>\n</table>\n</div>"
     },
     "metadata": {},
     "execution_count": 5
    }
   ],
   "source": [
    "# Read in csv file and convert to dataframe \n",
    "# Read file and define it as 'file_cities'\n",
    "file_cities=pd.read_csv(cities_file) \n",
    "\n",
    "# Create dataframe\n",
    "cities_df=pd.DataFrame(file_cities)\n",
    "\n",
    "# Columns to display in dataframe.\n",
    "cities_df=cities_df[[\"City_ID\",\"City\", \"Country\", \"Lat\", \"Lng\", \"Date\", \"Cloudiness\", \"Humidity\", \"Max Temp\", \"Wind Speed\"]] \n",
    "\n",
    "# Display dataframe output\n",
    "cities_df.head()"
   ]
  },
  {
   "cell_type": "code",
   "execution_count": 8,
   "metadata": {},
   "outputs": [],
   "source": [
    "# output data frame to html format\n",
    "cities_df.to_html('./cities.html', index=False)"
   ]
  },
  {
   "cell_type": "code",
   "execution_count": null,
   "metadata": {},
   "outputs": [],
   "source": []
  }
 ]
}